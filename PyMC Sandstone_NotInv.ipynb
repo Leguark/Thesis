{
 "cells": [
  {
   "cell_type": "markdown",
   "metadata": {},
   "source": [
    "## PyMC GeoMod Sandstone Simplified\n",
    "\n",
    "#### Importing stuff"
   ]
  },
  {
   "cell_type": "code",
   "execution_count": 8,
   "metadata": {
    "collapsed": false
   },
   "outputs": [],
   "source": [
    "%matplotlib inline\n",
    "from IPython.core.display import Image"
   ]
  },
  {
   "cell_type": "code",
   "execution_count": 9,
   "metadata": {
    "collapsed": false
   },
   "outputs": [],
   "source": [
    "import numpy as np\n",
    "import matplotlib.pyplot as plt\n",
    "import sys, os\n",
    "import shutil\n",
    "#import geobayes_simple as gs\n",
    "from itertools import chain\n",
    "import pymc as pm # PyMC 2\n",
    "from pymc.Matplot import plot\n",
    "from pymc import graph as gr\n",
    "import pandas as pn\n",
    "import numpy as np\n",
    "#import daft\n",
    "from IPython.core.pylabtools import figsize\n",
    "figsize(12.5, 10)"
   ]
  },
  {
   "cell_type": "code",
   "execution_count": 10,
   "metadata": {
    "collapsed": false
   },
   "outputs": [
    {
     "data": {
      "text/plain": [
       "<module 'geogrid' from 'C:\\Users\\Miguel\\workspace\\pygeomod\\pygeomod\\geogrid.pyc'>"
      ]
     },
     "execution_count": 10,
     "metadata": {},
     "output_type": "execute_result"
    }
   ],
   "source": [
    "# as we have our model and pygeomod in different paths, let's change the pygeomod path to the default path.\n",
    "sys.path.append(\"C:\\Users\\Miguel\\workspace\\pygeomod\\pygeomod\")\n",
    "#sys.path.append(r'/home/jni/git/tmp/pygeomod_tmp')\n",
    "import geogrid\n",
    "import geomodeller_xml_obj as gxml\n",
    "reload(gxml)\n",
    "reload(geogrid)"
   ]
  },
  {
   "cell_type": "code",
   "execution_count": 11,
   "metadata": {
    "collapsed": true
   },
   "outputs": [],
   "source": [
    "sandstone0 = r'..\\Geomodeller\\Sandstone_small\\Sandstone_small.xml'\n",
    "sandstone2 = r'..\\Geomodeller\\Sandstone_extremely_simpified\\Sandstone_extremely_simpified.xml'\n",
    "sandstone3 = r'..\\Geomodeller\\Sandstone_ASEG\\Sandstone_ASEG.xml'\n",
    "sandstone4 = r'C:\\Users\\Miguel\\workspace\\geobayes\\paper_sandstone\\models\\Sandstone_Ruth.xml'\n",
    "sandstone = r'C:\\Users\\Miguel\\workspace\\geobayes\\paper_sandstone\\models\\SanstoneSimple\\SanstoneSimple.xml'"
   ]
  },
  {
   "cell_type": "code",
   "execution_count": 12,
   "metadata": {
    "collapsed": false
   },
   "outputs": [
    {
     "name": "stdout",
     "output_type": "stream",
     "text": [
      "The folder is already created\n"
     ]
    }
   ],
   "source": [
    "try:\n",
    "    shutil.copytree(r'C:/Users/Miguel/workspace/geobayes/paper_sandstone/models/SanstoneSimple/', 'Temp_Sandstone/')\n",
    "except WindowsError:\n",
    "    print \"The folder is already created\""
   ]
  },
  {
   "cell_type": "markdown",
   "metadata": {},
   "source": [
    "#### Create the pygeomod model importing the GeoModeller model (last time I used model promised...)\n",
    "\n",
    "Info about this step: pygeomod notebooks."
   ]
  },
  {
   "cell_type": "code",
   "execution_count": 13,
   "metadata": {
    "collapsed": false
   },
   "outputs": [
    {
     "name": "stdout",
     "output_type": "stream",
     "text": [
      "Temp_Sandstone/SanstoneSimple.xml\n"
     ]
    }
   ],
   "source": [
    "sandstone = 'Temp_Sandstone/SanstoneSimple.xml'\n",
    "print sandstone "
   ]
  },
  {
   "cell_type": "code",
   "execution_count": 14,
   "metadata": {
    "collapsed": false
   },
   "outputs": [
    {
     "name": "stdout",
     "output_type": "stream",
     "text": [
      "number of voxels 512000\n"
     ]
    }
   ],
   "source": [
    "reload(geogrid)\n",
    "G1 = geogrid.GeoGrid()\n",
    "\n",
    "# Using G1, we can read the dimensions of our Murci geomodel\n",
    "G1.get_dimensions_from_geomodeller_xml_project(sandstone)\n",
    "\n",
    "G1.set_dimensions(dim=(696094,746777,6866608,6920075,-9272,1000))\n",
    "\n",
    "nx = 20\n",
    "ny = 160\n",
    "nz = 160\n",
    "\n",
    "print \"number of voxels\", nx*ny*nz\n",
    "\n",
    "G1.define_regular_grid(nx,ny,nz)\n",
    "\n",
    "G1.update_from_geomodeller_project(sandstone)"
   ]
  },
  {
   "cell_type": "code",
   "execution_count": 15,
   "metadata": {
    "collapsed": false
   },
   "outputs": [
    {
     "name": "stderr",
     "output_type": "stream",
     "text": [
      "C:\\Users\\Miguel\\Anaconda\\lib\\site-packages\\matplotlib\\axes\\_base.py:1057: UnicodeWarning: Unicode equal comparison failed to convert both arguments to Unicode - interpreting them as being unequal\n",
      "  if aspect == 'normal':\n",
      "C:\\Users\\Miguel\\Anaconda\\lib\\site-packages\\matplotlib\\axes\\_base.py:1062: UnicodeWarning: Unicode equal comparison failed to convert both arguments to Unicode - interpreting them as being unequal\n",
      "  elif aspect in ('equal', 'auto'):\n"
     ]
    },
    {
     "data": {
      "image/png": "[encoded data removed]",
      "text/plain": [
       "<matplotlib.figure.Figure at 0x3867f98>"
      ]
     },
     "metadata": {},
     "output_type": "display_data"
    }
   ],
   "source": [
    "reload(geogrid)\n",
    "\n",
    "G1.plot_section('x',cell_pos= 10,colorbar = True,  cmap='RdBu',\n",
    "                figsize=(12.5,10),interpolation= 'nearest' ,ve = 1, contour =False,geomod_coord= True, savefig = True)"
   ]
  },
  {
   "cell_type": "code",
   "execution_count": 16,
   "metadata": {
    "collapsed": true
   },
   "outputs": [],
   "source": [
    "plt.savefig?"
   ]
  },
  {
   "cell_type": "code",
   "execution_count": 17,
   "metadata": {
    "collapsed": false
   },
   "outputs": [
    {
     "name": "stdout",
     "output_type": "stream",
     "text": [
      "[[ 5.  5.  5. ...,  0.  0.  0.]\n",
      " [ 5.  5.  5. ...,  0.  0.  0.]\n",
      " [ 5.  5.  5. ...,  0.  0.  0.]\n",
      " ..., \n",
      " [ 1.  1.  1. ...,  0.  0.  0.]\n",
      " [ 1.  1.  1. ...,  0.  0.  0.]\n",
      " [ 1.  1.  1. ...,  0.  0.  0.]] \n",
      "[[ 5.  5.  5. ...,  0.  0.  0.]\n",
      " [ 5.  5.  5. ...,  0.  0.  0.]\n",
      " [ 5.  5.  5. ...,  0.  0.  0.]\n",
      " ..., \n",
      " [ 1.  1.  1. ...,  0.  0.  0.]\n",
      " [ 1.  1.  1. ...,  0.  0.  0.]\n",
      " [ 1.  1.  1. ...,  0.  0.  0.]] (160L, 160L) (159L, 160L)\n"
     ]
    },
    {
     "ename": "ValueError",
     "evalue": "operands could not be broadcast together with shapes (160,160) (159,160) ",
     "output_type": "error",
     "traceback": [
      "\u001b[1;31m---------------------------------------------------------------------------\u001b[0m",
      "\u001b[1;31mValueError\u001b[0m                                Traceback (most recent call last)",
      "\u001b[1;32m<ipython-input-17-d9f53b6bec56>\u001b[0m in \u001b[0;36m<module>\u001b[1;34m()\u001b[0m\n\u001b[0;32m      1\u001b[0m \u001b[1;32mprint\u001b[0m \u001b[0mG1\u001b[0m\u001b[1;33m.\u001b[0m\u001b[0mgrid\u001b[0m\u001b[1;33m[\u001b[0m\u001b[1;36m10\u001b[0m\u001b[1;33m,\u001b[0m\u001b[1;33m:\u001b[0m\u001b[1;33m,\u001b[0m\u001b[1;33m:\u001b[0m\u001b[1;33m]\u001b[0m\u001b[1;33m,\u001b[0m \u001b[1;34m\"\\n\"\u001b[0m\u001b[1;33m,\u001b[0m \u001b[0mG1\u001b[0m\u001b[1;33m.\u001b[0m\u001b[0mgrid\u001b[0m\u001b[1;33m[\u001b[0m\u001b[1;36m10\u001b[0m\u001b[1;33m,\u001b[0m\u001b[1;36m0\u001b[0m\u001b[1;33m:\u001b[0m\u001b[1;33m-\u001b[0m\u001b[1;36m1\u001b[0m\u001b[1;33m,\u001b[0m\u001b[1;33m:\u001b[0m\u001b[1;33m]\u001b[0m\u001b[1;33m,\u001b[0m \u001b[0mnp\u001b[0m\u001b[1;33m.\u001b[0m\u001b[0mshape\u001b[0m\u001b[1;33m(\u001b[0m\u001b[0mG1\u001b[0m\u001b[1;33m.\u001b[0m\u001b[0mgrid\u001b[0m\u001b[1;33m[\u001b[0m\u001b[1;36m10\u001b[0m\u001b[1;33m,\u001b[0m\u001b[1;33m:\u001b[0m\u001b[1;33m,\u001b[0m\u001b[1;33m:\u001b[0m\u001b[1;33m]\u001b[0m\u001b[1;33m)\u001b[0m\u001b[1;33m,\u001b[0m \u001b[0mnp\u001b[0m\u001b[1;33m.\u001b[0m\u001b[0mshape\u001b[0m\u001b[1;33m(\u001b[0m\u001b[0mG1\u001b[0m\u001b[1;33m.\u001b[0m\u001b[0mgrid\u001b[0m\u001b[1;33m[\u001b[0m\u001b[1;36m10\u001b[0m\u001b[1;33m,\u001b[0m\u001b[1;36m0\u001b[0m\u001b[1;33m:\u001b[0m\u001b[1;33m-\u001b[0m\u001b[1;36m1\u001b[0m\u001b[1;33m,\u001b[0m\u001b[1;33m:\u001b[0m\u001b[1;33m]\u001b[0m\u001b[1;33m)\u001b[0m\u001b[1;33m\u001b[0m\u001b[0m\n\u001b[0;32m      2\u001b[0m \u001b[1;33m\u001b[0m\u001b[0m\n\u001b[1;32m----> 3\u001b[1;33m \u001b[0mG1\u001b[0m\u001b[1;33m.\u001b[0m\u001b[0mgrid\u001b[0m\u001b[1;33m[\u001b[0m\u001b[1;36m10\u001b[0m\u001b[1;33m,\u001b[0m\u001b[1;33m:\u001b[0m\u001b[1;33m,\u001b[0m\u001b[1;33m:\u001b[0m\u001b[1;33m]\u001b[0m \u001b[1;33m-\u001b[0m \u001b[0mG1\u001b[0m\u001b[1;33m.\u001b[0m\u001b[0mgrid\u001b[0m\u001b[1;33m[\u001b[0m\u001b[1;36m10\u001b[0m\u001b[1;33m,\u001b[0m\u001b[1;36m0\u001b[0m\u001b[1;33m:\u001b[0m\u001b[1;33m-\u001b[0m\u001b[1;36m1\u001b[0m\u001b[1;33m,\u001b[0m\u001b[1;33m:\u001b[0m\u001b[1;33m]\u001b[0m\u001b[1;33m\u001b[0m\u001b[0m\n\u001b[0m",
      "\u001b[1;31mValueError\u001b[0m: operands could not be broadcast together with shapes (160,160) (159,160) "
     ]
    }
   ],
   "source": [
    "print G1.grid[10,:,:], \"\\n\", G1.grid[10,0:-1,:], np.shape(G1.grid[10,:,:]), np.shape(G1.grid[10,0:-1,:])\n",
    "\n",
    "G1.grid[10,:,:] - G1.grid[10,0:-1,:]"
   ]
  },
  {
   "cell_type": "markdown",
   "metadata": {},
   "source": [
    "### Creating the Bayesian Model of the input data!\n",
    "#### First: Importing the uncertainty data from geolgical observations\n"
   ]
  },
  {
   "cell_type": "code",
   "execution_count": 18,
   "metadata": {
    "collapsed": false,
    "scrolled": false
   },
   "outputs": [
    {
     "data": {
      "text/plain": [
       "array([[u'SM_Seis_C', 5680.0, 500.0],\n",
       "       [u'SM_Seis_E', 3050.0, 500.0],\n",
       "       [u'SM_Sand_C', 5010.0, 100.0],\n",
       "       [u'SM_Atley_1', 4550.0, 100.0],\n",
       "       [u'SM_Atley_2', 3600.0, 100.0],\n",
       "       [u'SM_Atley_3', 6000.0, 100.0],\n",
       "       [u'SM_Atley_4', 3200.0, 100.0],\n",
       "       [u'SM_Atley_5', 5600.0, 100.0],\n",
       "       [u'BIF_Atley_2', 1800.0, 100.0],\n",
       "       [u'BIF_Atley_3', 3900.0, 100.0],\n",
       "       [u'BIF_Atley_4', 500.0, 100.0],\n",
       "       [u'BIF_Atley_5', 1800.0, 100.0]], dtype=object)"
      ]
     },
     "execution_count": 18,
     "metadata": {},
     "output_type": "execute_result"
    }
   ],
   "source": [
    "data = pn.read_excel(\"C:\\Users\\Miguel\\workspace\\geobayes\\paper_sandstone\\models\\Uncertainties.xlsx\")                    \n",
    "#print data[:,[0,3,6,7]]\n",
    "data_ar = data.values[:,[0,3,6,7]]\n",
    "\n",
    "np.asarray(data_ar[data_ar[:,1] == \"depth\"][:,[0,2,3]])\n"
   ]
  },
  {
   "cell_type": "markdown",
   "metadata": {},
   "source": [
    "## Creating out PyMC model our of this\n",
    "\n",
    "\n",
    "In the first try we are gonna take the surface points as real values since in any case they will have less uncertainty."
   ]
  },
  {
   "cell_type": "code",
   "execution_count": 25,
   "metadata": {
    "collapsed": false,
    "scrolled": false
   },
   "outputs": [],
   "source": [
    "#==============================\n",
    "# Stochastics: Our input data\n",
    "#============================\n",
    "data_depth = np.asarray(data_ar[data_ar[:,1] == \"depth\"][:,[0, 2,3]])\n",
    "contact_points_mc = []\n",
    "for i in range(len(data_depth)):\n",
    "    contact_points_mc = np.append(contact_points_mc, pm.Normal(str(data_depth[i,0]), data_depth[i,1], 1./np.square(data_depth[i,2])))\n",
    "\n",
    "\n",
    "data_azimuth = np.asarray(data_ar[data_ar[:,1] == \"azimuth\"][:,[0, 2,3]])\n",
    "azimuths_mc = []    \n",
    "for i in range(len(data_azimuth)):\n",
    "    azimuths_mc = np.append(azimuths_mc, pm.Normal(str(data_azimuth[i,0]), data_azimuth[i,1], 1./np.square(data_azimuth[i,2])))   \n",
    "\n",
    "data_dip = np.asarray(data_ar[data_ar[:,1] == \"dip\"][:,[0, 2,3]])\n",
    "dips_mc = []\n",
    "for i in range(len(data_dip)):\n",
    "    dips_mc = np.append(dips_mc, pm.Normal(str(data_dip[i,0]), data_dip[i,1], 1./np.square(data_dip[i,2])))  \n",
    "\n",
    "    \n",
    "#===============================\n",
    "# First Constrains: Input data\n",
    "#=============================\n",
    "@pm.deterministic\n",
    "def SM_Atley(contact_points_SM_Atley = contact_points_mc):\n",
    "    SM_Atley = contact_points_mc[[int(np.argwhere(data_depth[:,0]==\"SM_Atley_2\")),int(np.argwhere(data_depth[:,0]==\"SM_Atley_3\")),\n",
    "                              int(np.argwhere(data_depth[:,0]==\"SM_Atley_4\")),int(np.argwhere(data_depth[:,0]==\"SM_Atley_5\"))]]\n",
    "    return SM_Atley\n",
    "@pm.deterministic\n",
    "def BIF_Atley(contact_points_BIF_Atley = contact_points_mc):\n",
    "    BIF_Atley = contact_points_mc[[int(np.argwhere(data_depth[:,0]==\"BIF_Atley_2\")),int(np.argwhere(data_depth[:,0]==\"BIF_Atley_3\")),\n",
    "                                  int(np.argwhere(data_depth[:,0]==\"BIF_Atley_4\")),int(np.argwhere(data_depth[:,0]==\"BIF_Atley_5\"))]]\n",
    "    return BIF_Atley\n",
    "\n",
    "\n",
    "@pm.potential\n",
    "def order_layers(SM_Atley = SM_Atley, BIF_Atley = BIF_Atley):\n",
    "    Atley_dif_1 = SM_Atley - BIF_Atley\n",
    "    if np.amin(Atley_dif_1) < 500:\n",
    "        return -1\n",
    "    if np.amin(Atley_dif_1) < 0:\n",
    "        return -2\n",
    "    return 0\n",
    "   \n",
    "# ===============================================================================\n",
    "# Generation of model\n",
    "# ===============================================================================\n",
    "@pm.deterministic\n",
    "def model(contact_points_val_mc = contact_points_mc, azimuths_val = azimuths_mc , dips_val = dips_mc):\n",
    "# IMPORTANT NOTE: To be sure that the point we want to change fit with the Observation ID, I use the distribution name that\n",
    "# in this case is in contact_points(parent values). Children values (contact_points_val) only have the number itself\n",
    "    \n",
    "    #print \"contact_points_mc\", contact_points_mc, contact_points_mc[0].value\n",
    "    #print \"caontact points val_mc\", contact_points_val_mc[0]\n",
    "   \n",
    "  \n",
    "    # Create the array we will use to modify the xml. We have to check the order of the formations\n",
    "    \n",
    "    \n",
    "        #==================================================\n",
    "        # Loading old model\n",
    "        #==============================================\n",
    "    # Load the xml to be modify\n",
    "    org_xml = 'Temp_Sandstone/SanstoneSimple.xml'\n",
    "    \n",
    "    #Create the instance to modify the xml\n",
    "        # Loading stuff\n",
    "    reload(gxml)\n",
    "    gmod_obj = gxml.GeomodellerClass()\n",
    "    gmod_obj.load_geomodeller_file(org_xml)\n",
    "\n",
    "    \n",
    "        #============================================\n",
    "        # Modifing the model\n",
    "        #===========================================\n",
    "    gmod_obj.change_formation_values_PyMC(contact_points_mc = contact_points_mc,\n",
    "                                         azimuths_mc = azimuths_mc,\n",
    "                                         dips_mc = dips_mc)\n",
    "    \n",
    " \n",
    "    \n",
    "        #==============================================\n",
    "        # wtiting new model\n",
    "        #============================================\n",
    "\n",
    "    # Write the new xml\n",
    "    gmod_obj.write_xml(\"Temp_Sandstone/new.xml\")\n",
    "       \n",
    "    # Read the new xml\n",
    "    new_xml = 'Temp_Sandstone/new.xml'\n",
    "    G1 = geogrid.GeoGrid()\n",
    "    \n",
    "    # Getting dimensions and definning grid\n",
    "    G1.get_dimensions_from_geomodeller_xml_project(new_xml)\n",
    "    G1.set_dimensions(dim=(696094,746777,6866608,6920075,-9272,1000))\n",
    "    \n",
    "    # Resolution!\n",
    "    nx = 80\n",
    "    ny = 80\n",
    "    nz = 80\n",
    "    G1.define_regular_grid(nx,ny,nz)\n",
    "    \n",
    "    # Updating project\n",
    "    G1.update_from_geomodeller_project(new_xml)\n",
    "    \n",
    "    return G1\n",
    " \n",
    "\n",
    "\n",
    "#================================\n",
    "# Second Constrains: Interpolation\n",
    "#===============================\n",
    "\n",
    "@pm.potential\n",
    "def test_1(G_grid = G1.grid):\n",
    "    return 0\n",
    "\n",
    "\n",
    "\n",
    "#=================================\n",
    "# Inversion\n",
    "#=================================\n",
    "\n",
    "\n",
    "\n",
    "\n",
    "#===========================================================00\n",
    "#===========================================================\n",
    "#CREATING THE MODEL\n",
    "#==========================================================\n",
    "#=========================================================\n",
    "\n",
    "# Chaining the arrays\n",
    "parameters = list(chain(contact_points_mc,dips_mc,azimuths_mc))\n",
    "\n",
    "# Appending the rest\n",
    "parameters.append(model)\n",
    "parameters.append(BIF_Atley)\n",
    "parameters.append(SM_Atley)\n",
    "parameters.append(order_layers)\n",
    "\n",
    "#print np.shape(parameters), parameters\n",
    "\n",
    "pymc_model = pm.Model( parameters)"
   ]
  },
  {
   "cell_type": "code",
   "execution_count": 26,
   "metadata": {
    "collapsed": false,
    "scrolled": false
   },
   "outputs": [
    {
     "name": "stdout",
     "output_type": "stream",
     "text": [
      " [-------------------111%-------------------] 10 of 9 complete in 580.6 sec"
     ]
    }
   ],
   "source": [
    "M = pm.MCMC(pymc_model)\n",
    "M.sample(iter=9)"
   ]
  },
  {
   "cell_type": "code",
   "execution_count": 27,
   "metadata": {
    "collapsed": false
   },
   "outputs": [
    {
     "data": {
      "text/plain": [
       "array([<geogrid.GeoGrid instance at 0x0000000034656A08>,\n",
       "       <geogrid.GeoGrid instance at 0x0000000033DB3A08>,\n",
       "       <geogrid.GeoGrid instance at 0x0000000033DC7D08>,\n",
       "       <geogrid.GeoGrid instance at 0x0000000031B8A5C8>,\n",
       "       <geogrid.GeoGrid instance at 0x000000006682E288>,\n",
       "       <geogrid.GeoGrid instance at 0x0000000067015FC8>,\n",
       "       <geogrid.GeoGrid instance at 0x0000000033728C08>,\n",
       "       <geogrid.GeoGrid instance at 0x0000000031478F48>,\n",
       "       <geogrid.GeoGrid instance at 0x00000000667FAD48>], dtype=object)"
      ]
     },
     "execution_count": 27,
     "metadata": {},
     "output_type": "execute_result"
    }
   ],
   "source": [
    "n_samples = 9\n",
    "\n",
    "section_samples, section_samples_all = M.trace('model')[-n_samples:], M.trace('model')[:]\n",
    "section_samples"
   ]
  },
  {
   "cell_type": "code",
   "execution_count": 28,
   "metadata": {
    "collapsed": false
   },
   "outputs": [
    {
     "data": {
      "image/png": "[encoded data removed]",
      "text/plain": [
       "<matplotlib.figure.Figure at 0x668126d8>"
      ]
     },
     "metadata": {},
     "output_type": "display_data"
    }
   ],
   "source": [
    "fig, ax = plt.subplots(1, 1, figsize=(15, 5))\n",
    "\n",
    "figsize(12.5, 10)\n",
    "\n",
    "for i in section_samples:\n",
    "    i.plot_section('x',cell_pos=40,colorbar = True, ax = ax, alpha = 0.8, cmap = 'coolwarm_r',\n",
    "                   figsize=(6,6),interpolation= 'nearest' ,ve = 1, geomod_coord= True, contour = True, \n",
    "                   savefig = True, fig_filename = \"Uncertainty Sandstone\")\n",
    "    "
   ]
  },
  {
   "cell_type": "code",
   "execution_count": 29,
   "metadata": {
    "collapsed": false,
    "scrolled": false
   },
   "outputs": [
    {
     "data": {
      "image/png": "[encoded data removed]",
      "text/plain": [
       "<matplotlib.figure.Figure at 0x60354470>"
      ]
     },
     "metadata": {},
     "output_type": "display_data"
    }
   ],
   "source": [
    "fig, axs = plt.subplots(3, 3, sharex=True, sharey=True, figsize = (20.5, 10))\n",
    "\n",
    "\n",
    "plt.text(0.5, 1.1, \"Sandstone\",\n",
    "     horizontalalignment='center',\n",
    "        fontsize=20,\n",
    "        transform = axs[0,1].transAxes)\n",
    "#plt.subplots_adjust(top=2.15)\n",
    "#axs[0,1].set_title(\"Posterior Faults: Non-Constrains\", fontsize=20)\n",
    "\n",
    "for i, g  in enumerate(section_samples):\n",
    "    g.plot_section('x',cell_pos=40,colorbar = True, cmap = \"coolwarm_r\", fig_filename = \"9plots\",\n",
    "                   ax = axs[i- 3*(i/3),i/3], alpha = 1, figsize= (50,6),interpolation= 'nearest' ,\n",
    "                   ve = 3, geomod_coord= True, contour = False)    \n",
    "    \n",
    "plt.savefig(\"9plot_no_const.png\", transparent = True)    "
   ]
  },
  {
   "cell_type": "code",
   "execution_count": null,
   "metadata": {
    "collapsed": false,
    "scrolled": true
   },
   "outputs": [],
   "source": [
    "plot(M);\n"
   ]
  },
  {
   "cell_type": "code",
   "execution_count": null,
   "metadata": {
    "collapsed": false
   },
   "outputs": [],
   "source": [
    "a = gr.dag(pymc_model)\n",
    "a.write_png(\"Sandstone.png\")"
   ]
  },
  {
   "cell_type": "code",
   "execution_count": null,
   "metadata": {
    "collapsed": true
   },
   "outputs": [],
   "source": [
    "gr.dag?"
   ]
  },
  {
   "cell_type": "code",
   "execution_count": null,
   "metadata": {
    "collapsed": false
   },
   "outputs": [],
   "source": [
    "Image(\"Sandstone.png\")"
   ]
  },
  {
   "cell_type": "markdown",
   "metadata": {},
   "source": [
    "## Visualization of the parameters that change in every iteration"
   ]
  },
  {
   "cell_type": "markdown",
   "metadata": {},
   "source": [
    "### Info values in original xml"
   ]
  },
  {
   "cell_type": "code",
   "execution_count": null,
   "metadata": {
    "collapsed": false,
    "scrolled": true
   },
   "outputs": [],
   "source": [
    "reload(gxml)\n",
    "gmod_obj = gxml.GeomodellerClass()\n",
    "gmod_obj.load_geomodeller_file(sandstone)\n",
    "\n",
    "gmod_obj.change_formation_values_PyMC(info = True)"
   ]
  },
  {
   "cell_type": "markdown",
   "metadata": {},
   "source": [
    "### Info values in changed xml"
   ]
  },
  {
   "cell_type": "code",
   "execution_count": null,
   "metadata": {
    "collapsed": false,
    "scrolled": true
   },
   "outputs": [],
   "source": [
    "reload(gxml)\n",
    "gmod_obj = gxml.GeomodellerClass()\n",
    "gmod_obj.load_geomodeller_file( 'Temp_Sandstone/new.xml')\n",
    "gmod_obj.change_formation_values_PyMC(info = True)"
   ]
  },
  {
   "cell_type": "code",
   "execution_count": null,
   "metadata": {
    "collapsed": false,
    "scrolled": true
   },
   "outputs": [],
   "source": [
    "# Section names:\n",
    "section_names = gmod_obj.get_section_names()\n",
    "print \"section names\",section_names, \"\\n\" \n",
    "\n",
    "# Choose the section we want to use with Positon\n",
    "sections = gmod_obj.get_sections()\n",
    "print \"Chosen section by position\", sections, \"\\n\"\n",
    "\n",
    "# Create a dictionary so we can acces the section through the name\n",
    "section_dict = gmod_obj.create_sections_dict()\n",
    "print \"Chosen section by entry\", section_dict[\"Seismic\"][1], \"\\n\"\n",
    "\n",
    "\n",
    "\n",
    "# Formation names\n",
    "formation_names = gmod_obj.get_formation_names()\n",
    "print \"formation names\", formation_names, \"\\n\"\n",
    "\n",
    "# Get the points of all formation for a given section: Position\n",
    "#contact_points = gmod_obj.get_formation_point_data(sections) #to extract points you have to choose one of the sections\n",
    "#print \"Contact points on the chosen section\", contact_points, \"\\n\", type(contact_points)\n",
    "\n",
    "## Get the points of all formation for a given section: Dictionary\n",
    "contact_points = gmod_obj.get_formation_point_data(section_dict['Atley']) #to extract points you have to choose one of the sections\n",
    "print \"Contact points on the chosen section\", contact_points, \"\\n\", type(contact_points), np.shape(contact_points)\n",
    "\n",
    "# Showing contact points\n",
    "points = gmod_obj.get_point_coordinates(contact_points)\n",
    "print \"Points coordinates\\n\", points, np.shape(points), \"\\n\"\n",
    "\n",
    "# Foliations\n",
    "\n",
    "foliations = gmod_obj.get_foliations(section_dict['Atley'])\n",
    "print \"foliations\" , foliations,  \"\\n\\n\\n\"\n",
    "for i in range(len(foliations)): print \"azimut:\",gmod_obj.get_foliation_azimuth(foliations[i]), \"dip\",gmod_obj.get_foliation_dip(foliations[i]), \"coordinates\", gmod_obj.get_foliation_coordinates(foliations[i])  \n"
   ]
  }
 ],
 "metadata": {
  "kernelspec": {
   "display_name": "Python 2",
   "language": "python",
   "name": "python2"
  },
  "language_info": {
   "codemirror_mode": {
    "name": "ipython",
    "version": 2
   },
   "file_extension": ".py",
   "mimetype": "text/x-python",
   "name": "python",
   "nbconvert_exporter": "python",
   "pygments_lexer": "ipython2",
   "version": "2.7.9"
  }
 },
 "nbformat": 4,
 "nbformat_minor": 0
}
