{
 "cells": [
  {
   "cell_type": "markdown",
   "metadata": {},
   "source": [
    "## The F**** the day of reckoning\n",
    "\n",
    "**Importing**"
   ]
  },
  {
   "cell_type": "code",
   "execution_count": 8,
   "metadata": {
    "collapsed": true
   },
   "outputs": [],
   "source": [
    "%matplotlib inline\n",
    "from IPython.core.display import Image"
   ]
  },
  {
   "cell_type": "code",
   "execution_count": 9,
   "metadata": {
    "collapsed": false
   },
   "outputs": [],
   "source": [
    "import numpy as np\n",
    "import matplotlib.pyplot as plt\n",
    "import sys, os\n",
    "#import geobayes_simple as gs\n",
    "\n",
    "import pymc as pm # PyMC 2\n",
    "from pymc.Matplot import plot\n",
    "from pymc import graph as gr\n",
    "import numpy as np\n",
    "#import daft\n",
    "from IPython.core.pylabtools import figsize\n",
    "figsize(12.5, 10)"
   ]
  },
  {
   "cell_type": "code",
   "execution_count": 10,
   "metadata": {
    "collapsed": false
   },
   "outputs": [
    {
     "data": {
      "text/plain": [
       "<module 'geomodeller_xml_obj' from 'C:\\Users\\Miguel\\workspace\\pygeomod\\pygeomod\\geomodeller_xml_obj.pyc'>"
      ]
     },
     "execution_count": 10,
     "metadata": {},
     "output_type": "execute_result"
    }
   ],
   "source": [
    "#sys.path.append(\"C:\\Users\\Miguel\\workspace\\Thesis\\geobyes\")\n",
    "# as we have our model and pygeomod in different paths, let's change the pygeomod path to the default path.\n",
    "sys.path.append(\"C:\\Users\\Miguel\\workspace\\pygeomod\\pygeomod\")\n",
    "#sys.path.append(r'/home/jni/git/tmp/pygeomod_tmp')\n",
    "import geogrid\n",
    "import geomodeller_xml_obj as gxml\n",
    "reload(gxml)\n"
   ]
  },
  {
   "cell_type": "markdown",
   "metadata": {},
   "source": [
    "## Simplest case: three horizontal layers, with depth unknow\n",
    "#### Loading pre-made Geomodeller model "
   ]
  },
  {
   "cell_type": "code",
   "execution_count": 11,
   "metadata": {
    "collapsed": false
   },
   "outputs": [
    {
     "name": "stdout",
     "output_type": "stream",
     "text": [
      "..\\Geomodeller\\Basic_case\\3_horizontal_layers\\horizontal_layers.xml\n"
     ]
    }
   ],
   "source": [
    "hor_lay = r'..\\Geomodeller\\Basic_case\\3_horizontal_layers\\horizontal_layers.xml'\n",
    "print hor_lay"
   ]
  },
  {
   "cell_type": "code",
   "execution_count": 12,
   "metadata": {
    "collapsed": false
   },
   "outputs": [
    {
     "name": "stdout",
     "output_type": "stream",
     "text": [
      "c_char_p('..\\\\Geomodeller\\\\Basic_case\\\\3_horizontal_layers\\\\horizontal_layers.xml')\n"
     ]
    }
   ],
   "source": [
    "reload(geogrid)\n",
    "G1 = geogrid.GeoGrid()\n",
    "\n",
    "# Using G1, we can read the dimensions of our Murci geomodel\n",
    "G1.get_dimensions_from_geomodeller_xml_project(hor_lay)\n",
    "\n",
    "#G1.set_dimensions(dim=(0,23000,0,16000,-8000,1000))\n",
    "nx = 400\n",
    "ny = 2\n",
    "nz = 400\n",
    "G1.define_regular_grid(nx,ny,nz)\n",
    "\n",
    "G1.update_from_geomodeller_project(hor_lay)"
   ]
  },
  {
   "cell_type": "markdown",
   "metadata": {},
   "source": [
    "Tha axis here represent the number of cells not the real values of geomodeller"
   ]
  },
  {
   "cell_type": "code",
   "execution_count": 14,
   "metadata": {
    "collapsed": false,
    "scrolled": false
   },
   "outputs": [
    {
     "data": {
      "image/png": "[encoded data removed]",
      "text/plain": [
       "<matplotlib.figure.Figure at 0x2e65f588>"
      ]
     },
     "metadata": {},
     "output_type": "display_data"
    }
   ],
   "source": [
    "G1.plot_section('y',cell_pos=1,colorbar = True,  cmap='RdBu', figsize=(6,6),interpolation= 'nearest' ,ve = 1, geomod_coord= True, contour = True)"
   ]
  },
  {
   "cell_type": "code",
   "execution_count": 12,
   "metadata": {
    "collapsed": true
   },
   "outputs": [],
   "source": [
    "plt.contour?"
   ]
  },
  {
   "cell_type": "markdown",
   "metadata": {},
   "source": [
    "####Setting Bayes Model"
   ]
  },
  {
   "cell_type": "code",
   "execution_count": 7,
   "metadata": {
    "collapsed": false
   },
   "outputs": [
    {
     "data": {
      "image/png": "[encoded data removed]",
      "text/plain": [
       "<IPython.core.display.Image object>"
      ]
     },
     "execution_count": 7,
     "metadata": {},
     "output_type": "execute_result"
    }
   ],
   "source": [
    "Image(\"Nice Notebooks\\THL_no_thickness.png\")"
   ]
  },
  {
   "cell_type": "code",
   "execution_count": 8,
   "metadata": {
    "collapsed": true
   },
   "outputs": [],
   "source": [
    "alpha = pm.Normal(\"alpha\", -350, 0.05)#, value= 250)\n",
    "beta = pm.Normal(\"beta\", -500, 0.001)#, value=0)\n",
    "gamma = pm.Normal(\"gamma\", -650, 0.001)#, value = 0)\n",
    "\n",
    "#MODEL!!\n",
    "model = pm.Model([alpha, beta, gamma])"
   ]
  },
  {
   "cell_type": "code",
   "execution_count": 9,
   "metadata": {
    "collapsed": false
   },
   "outputs": [
    {
     "name": "stdout",
     "output_type": "stream",
     "text": [
      "\r",
      " [-----------------100%-----------------] 1500 of 1500 complete in 0.2 sec"
     ]
    }
   ],
   "source": [
    "M = pm.MCMC(model)\n",
    "M.sample(iter=1500, burn = 800)"
   ]
  },
  {
   "cell_type": "code",
   "execution_count": 10,
   "metadata": {
    "collapsed": false
   },
   "outputs": [
    {
     "name": "stdout",
     "output_type": "stream",
     "text": [
      "[(-351.07726557230518, -518.81835147035338, -689.10148288834523, -351.07726557230518, -518.81835147035338, -689.10148288834523)]\n"
     ]
    }
   ],
   "source": [
    "alpha_samples, alpha_samples_all = M.trace('alpha')[-1:], M.trace(\"alpha\")[:]\n",
    "beta_samples, beta_samples_all = M.trace('beta')[-1:], M.trace(\"beta\")[:]\n",
    "gamma_samples, gamma_samples_all = M.trace('gamma')[-1:], M.trace('gamma')[:]\n",
    "\n",
    "samples = zip (alpha_samples,beta_samples, gamma_samples,alpha_samples,beta_samples, gamma_samples)\n",
    "print samples"
   ]
  },
  {
   "cell_type": "markdown",
   "metadata": {},
   "source": [
    "## Generating new model in Geomodeller"
   ]
  },
  {
   "cell_type": "code",
   "execution_count": 11,
   "metadata": {
    "collapsed": false
   },
   "outputs": [
    {
     "name": "stdout",
     "output_type": "stream",
     "text": [
      "Write tree to file backup\\orihor_lay.xml\n"
     ]
    }
   ],
   "source": [
    "reload(gxml)\n",
    "gmod_obj = gxml.GeomodellerClass()\n",
    "gmod_obj.load_geomodeller_file(hor_lay)\n",
    "gmod_obj.write_xml(\"backup\\orihor_lay.xml\")"
   ]
  },
  {
   "cell_type": "code",
   "execution_count": 12,
   "metadata": {
    "collapsed": false
   },
   "outputs": [
    {
     "name": "stdout",
     "output_type": "stream",
     "text": [
      "section names ['Section1', 'SurfaceTopography'] \n",
      "\n",
      "Chosen section by position <Element '{http://www.geomodeller.com/geo}Section' at 0x2d681550> \n",
      "\n",
      "Chosen section by entry <Element '{http://www.geomodeller.com/geo}Section' at 0x2d681550> \n",
      "\n",
      "formation names ['Form1', 'Form2', 'Form3'] \n",
      "\n",
      "Contact points on the chosen section [<Element '{http://www.geomodeller.com/geo}Interface' at 0x2d681b00>, <Element '{http://www.geomodeller.com/geo}Interface' at 0x2d681c50>, <Element '{http://www.geomodeller.com/geo}Interface' at 0x2d681da0>, <Element '{http://www.geomodeller.com/geo}Interface' at 0x2d681ef0>, <Element '{http://www.geomodeller.com/geo}Interface' at 0x2d68f080>, <Element '{http://www.geomodeller.com/geo}Interface' at 0x2d68f1d0>] \n",
      "<type 'list'>\n",
      "Contact points on the chosen section [<Element '{http://www.geomodeller.com/geo}Interface' at 0x2d681b00>, <Element '{http://www.geomodeller.com/geo}Interface' at 0x2d681c50>, <Element '{http://www.geomodeller.com/geo}Interface' at 0x2d681da0>, <Element '{http://www.geomodeller.com/geo}Interface' at 0x2d681ef0>, <Element '{http://www.geomodeller.com/geo}Interface' at 0x2d68f080>, <Element '{http://www.geomodeller.com/geo}Interface' at 0x2d68f1d0>] \n",
      "<type 'list'>\n",
      "Points coordinates ['Form3 50,-350 150,-350 ', 'Form2 50,-500 150,-500 ', 'Form1 50,-650 150,-650 ', 'Form3 850,-350 950,-350 ', 'Form2 850,-500 950,-500 ', 'Form1 850,-650 950,-650 ']\n"
     ]
    }
   ],
   "source": [
    "# Section names:\n",
    "section_names = gmod_obj.get_section_names()\n",
    "print \"section names\",section_names, \"\\n\" \n",
    "\n",
    "# Choose the section we want to use with Positon\n",
    "sections = gmod_obj.get_sections()[0]\n",
    "print \"Chosen section by position\", sections, \"\\n\"\n",
    "\n",
    "# Create a dictionary so we can acces the section through the name\n",
    "section_dict = gmod_obj.create_sections_dict()\n",
    "print \"Chosen section by entry\", section_dict['Section1'], \"\\n\"\n",
    "\n",
    "# Formation names\n",
    "formation_names = gmod_obj.get_formation_names()\n",
    "print \"formation names\", formation_names, \"\\n\"\n",
    "\n",
    "# Get the points of all formation for a given section: Position\n",
    "contact_points = gmod_obj.get_formation_point_data(sections) #to extract points you have to choose one of the sections\n",
    "print \"Contact points on the chosen section\", contact_points, \"\\n\", type(contact_points)\n",
    "\n",
    "## Get the points of all formation for a given section: Dictionary\n",
    "contact_points = gmod_obj.get_formation_point_data(section_dict['Section1']) #to extract points you have to choose one of the sections\n",
    "print \"Contact points on the chosen section\", contact_points, \"\\n\", type(contact_points)\n",
    "\n",
    "# Showing contact points\n",
    "points = gmod_obj.get_point_coordinates(contact_points)\n",
    "print \"Points coordinates\", points"
   ]
  },
  {
   "cell_type": "markdown",
   "metadata": {
    "collapsed": true
   },
   "source": [
    "We want to change all points of the three formations. To do so we use the Section 1 that is what we are plotting"
   ]
  },
  {
   "cell_type": "code",
   "execution_count": 13,
   "metadata": {
    "collapsed": false
   },
   "outputs": [
    {
     "name": "stdout",
     "output_type": "stream",
     "text": [
      "['50,-350', '150,-350']\n",
      "['50,-500', '150,-500']\n",
      "['50,-650', '150,-650']\n",
      "['850,-350', '950,-350']\n",
      "['850,-500', '950,-500']\n",
      "['850,-650', '950,-650']\n"
     ]
    }
   ],
   "source": [
    "for i, point in enumerate(contact_points):\n",
    "    gmod_obj.change_formation_point_pos(point, y_coord = [samples[0][i],samples[0][i]])\n",
    "    \n",
    "  \n",
    "    "
   ]
  },
  {
   "cell_type": "code",
   "execution_count": 14,
   "metadata": {
    "collapsed": false
   },
   "outputs": [
    {
     "name": "stdout",
     "output_type": "stream",
     "text": [
      "Points coordinates ['Form3 50.000000,-351.077266 150.000000,-351.077266 ', 'Form2 50.000000,-518.818351 150.000000,-518.818351 ', 'Form1 50.000000,-689.101483 150.000000,-689.101483 ', 'Form3 850.000000,-351.077266 950.000000,-351.077266 ', 'Form2 850.000000,-518.818351 950.000000,-518.818351 ', 'Form1 850.000000,-689.101483 950.000000,-689.101483 ']\n"
     ]
    }
   ],
   "source": [
    "# Showing contact points\n",
    "points_changed = gmod_obj.get_point_coordinates(contact_points)\n",
    "print \"Points coordinates\", points_changed\n"
   ]
  },
  {
   "cell_type": "code",
   "execution_count": 19,
   "metadata": {
    "collapsed": false
   },
   "outputs": [
    {
     "name": "stdout",
     "output_type": "stream",
     "text": [
      "Write tree to file lololollol.xml\n"
     ]
    }
   ],
   "source": [
    "gmod_obj.write_xml(\"lololollol.xml\")"
   ]
  },
  {
   "cell_type": "code",
   "execution_count": 15,
   "metadata": {
    "collapsed": false
   },
   "outputs": [],
   "source": [
    "try:\n",
    "    import elementtree.ElementTree as ET\n",
    "except ImportError:\n",
    "    try:\n",
    "        import etree.ElementTree as ET\n",
    "    except ImportError:\n",
    "        try:\n",
    "            import xml.etree.ElementTree as ET\n",
    "        except ImportError:\n",
    "            import ElementTree as ET"
   ]
  },
  {
   "cell_type": "code",
   "execution_count": 16,
   "metadata": {
    "collapsed": false
   },
   "outputs": [
    {
     "name": "stdout",
     "output_type": "stream",
     "text": [
      "<xml.etree.ElementTree.ElementTree object at 0x000000001A151160>\n"
     ]
    }
   ],
   "source": [
    "x = ET.ElementTree(gmod_obj.rootelement)\n",
    "print x"
   ]
  },
  {
   "cell_type": "code",
   "execution_count": 17,
   "metadata": {
    "collapsed": false
   },
   "outputs": [
    {
     "ename": "TypeError",
     "evalue": "string or integer address expected instead of ElementTree instance",
     "output_type": "error",
     "traceback": [
      "\u001b[1;31m---------------------------------------------------------------------------\u001b[0m",
      "\u001b[1;31mTypeError\u001b[0m                                 Traceback (most recent call last)",
      "\u001b[1;32m<ipython-input-17-ed823879f0e3>\u001b[0m in \u001b[0;36m<module>\u001b[1;34m()\u001b[0m\n\u001b[1;32m----> 1\u001b[1;33m \u001b[0mG1\u001b[0m\u001b[1;33m.\u001b[0m\u001b[0mupdate_from_geomodeller_project\u001b[0m\u001b[1;33m(\u001b[0m\u001b[0mx\u001b[0m\u001b[1;33m)\u001b[0m\u001b[1;33m\u001b[0m\u001b[0m\n\u001b[0m",
      "\u001b[1;32mC:\\Users\\Miguel\\workspace\\pygeomod\\pygeomod\\geogrid.pyc\u001b[0m in \u001b[0;36mupdate_from_geomodeller_project\u001b[1;34m(self, xml_filename)\u001b[0m\n\u001b[0;32m    166\u001b[0m             \u001b[1;33m-\u001b[0m \u001b[1;33m*\u001b[0m\u001b[0mxml_filename\u001b[0m\u001b[1;33m*\u001b[0m \u001b[1;33m=\u001b[0m \u001b[0mstring\u001b[0m\u001b[1;33m:\u001b[0m \u001b[0mfilename\u001b[0m \u001b[0mof\u001b[0m \u001b[0mGeomodeller\u001b[0m \u001b[0mXML\u001b[0m \u001b[0mfile\u001b[0m\u001b[1;33m\u001b[0m\u001b[0m\n\u001b[0;32m    167\u001b[0m         \"\"\"\n\u001b[1;32m--> 168\u001b[1;33m         \u001b[0mfilename_ctypes\u001b[0m \u001b[1;33m=\u001b[0m \u001b[0mctypes\u001b[0m\u001b[1;33m.\u001b[0m\u001b[0mc_char_p\u001b[0m\u001b[1;33m(\u001b[0m\u001b[0mxml_filename\u001b[0m\u001b[1;33m)\u001b[0m\u001b[1;33m\u001b[0m\u001b[0m\n\u001b[0m\u001b[0;32m    169\u001b[0m         \u001b[1;32mprint\u001b[0m \u001b[0mfilename_ctypes\u001b[0m\u001b[1;33m\u001b[0m\u001b[0m\n\u001b[0;32m    170\u001b[0m         \u001b[1;31m# create cell position list with [x0, y0, z0, ... xn, yn, zn]\u001b[0m\u001b[1;33m\u001b[0m\u001b[1;33m\u001b[0m\u001b[0m\n",
      "\u001b[1;31mTypeError\u001b[0m: string or integer address expected instead of ElementTree instance"
     ]
    }
   ],
   "source": [
    "G1.update_from_geomodeller_project(x)"
   ]
  },
  {
   "cell_type": "code",
   "execution_count": 14,
   "metadata": {
    "collapsed": false
   },
   "outputs": [
    {
     "data": {
      "text/plain": [
       "array([4, 4])"
      ]
     },
     "execution_count": 14,
     "metadata": {},
     "output_type": "execute_result"
    }
   ],
   "source": [
    "array(x_coord)"
   ]
  },
  {
   "cell_type": "code",
   "execution_count": null,
   "metadata": {
    "collapsed": true
   },
   "outputs": [],
   "source": []
  }
 ],
 "metadata": {
  "kernelspec": {
   "display_name": "Python 2",
   "language": "python",
   "name": "python2"
  },
  "language_info": {
   "codemirror_mode": {
    "name": "ipython",
    "version": 2
   },
   "file_extension": ".py",
   "mimetype": "text/x-python",
   "name": "python",
   "nbconvert_exporter": "python",
   "pygments_lexer": "ipython2",
   "version": "2.7.9"
  }
 },
 "nbformat": 4,
 "nbformat_minor": 0
}
