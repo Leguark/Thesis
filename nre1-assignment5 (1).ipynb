{
 "cells": [
  {
   "cell_type": "markdown",
   "metadata": {},
   "source": [
    "# Assignment 5: Sequential Gaussian Simulation\n",
    "\n",
    "**Note**: This notebooks is a graded assignment. It counts **25% to your final mark** in the exercise with **25 points** to be achieved! You can work on this assignment alone or together in a group of two. In the second case, it is sufficient if only one person submits the results, but please indicate clearly the name of the other person.\n",
    "\n",
    "The notebook is **due at the 28th of August**. However, I strongly suggest that you finish it by next Thursday, so that we have the opportunity for discussion, if required, during the last exercise!\n",
    "\n",
    "**Please add your student ID to the notebook name so that it is clearly identifiable!** I.e. if your student ID were 0123456, then for this assignment your filename should be:\n",
    "\n",
    "    nre-assignement-4-0123456.ipynb\n",
    "\n",
    "Please submit your assignments per email to: \n",
    "<wellmann@aices.rwth-aachen.de>\n",
    "\n",
    "Please also add your student id here (or your ids if you submit together):\n",
    "\n",
    "**Student ID(s): **"
   ]
  },
  {
   "cell_type": "code",
   "execution_count": 1,
   "metadata": {
    "collapsed": false
   },
   "outputs": [],
   "source": [
    "import numpy as np\n",
    "import matplotlib.pyplot as plt"
   ]
  },
  {
   "cell_type": "code",
   "execution_count": 2,
   "metadata": {
    "collapsed": false
   },
   "outputs": [],
   "source": [
    "%matplotlib inline"
   ]
  },
  {
   "cell_type": "code",
   "execution_count": 3,
   "metadata": {
    "collapsed": false
   },
   "outputs": [],
   "source": [
    "from __future__ import division\n",
    "#from __future__ import print_function"
   ]
  },
  {
   "cell_type": "code",
   "execution_count": 4,
   "metadata": {
    "collapsed": false
   },
   "outputs": [
    {
     "ename": "IOError",
     "evalue": "[Errno 2] No such file or directory: 'nre_style_3.css'",
     "output_type": "error",
     "traceback": [
      "\u001b[1;31m---------------------------------------------------------------------------\u001b[0m",
      "\u001b[1;31mIOError\u001b[0m                                   Traceback (most recent call last)",
      "\u001b[1;32m<ipython-input-4-e703f985de69>\u001b[0m in \u001b[0;36m<module>\u001b[1;34m()\u001b[0m\n\u001b[0;32m      1\u001b[0m \u001b[1;32mfrom\u001b[0m \u001b[0mIPython\u001b[0m\u001b[1;33m.\u001b[0m\u001b[0mcore\u001b[0m\u001b[1;33m.\u001b[0m\u001b[0mdisplay\u001b[0m \u001b[1;32mimport\u001b[0m \u001b[0mHTML\u001b[0m\u001b[1;33m\u001b[0m\u001b[0m\n\u001b[0;32m      2\u001b[0m \u001b[0mcss_file\u001b[0m \u001b[1;33m=\u001b[0m \u001b[1;34m'nre_style_3.css'\u001b[0m\u001b[1;33m\u001b[0m\u001b[0m\n\u001b[1;32m----> 3\u001b[1;33m \u001b[0mHTML\u001b[0m\u001b[1;33m(\u001b[0m\u001b[0mopen\u001b[0m\u001b[1;33m(\u001b[0m\u001b[0mcss_file\u001b[0m\u001b[1;33m,\u001b[0m \u001b[1;34m\"r\"\u001b[0m\u001b[1;33m)\u001b[0m\u001b[1;33m.\u001b[0m\u001b[0mread\u001b[0m\u001b[1;33m(\u001b[0m\u001b[1;33m)\u001b[0m\u001b[1;33m)\u001b[0m\u001b[1;33m\u001b[0m\u001b[0m\n\u001b[0m",
      "\u001b[1;31mIOError\u001b[0m: [Errno 2] No such file or directory: 'nre_style_3.css'"
     ]
    }
   ],
   "source": [
    "from IPython.core.display import HTML\n",
    "css_file = 'nre_style_3.css'\n",
    "HTML(open(css_file, \"r\").read())"
   ]
  },
  {
   "cell_type": "markdown",
   "metadata": {},
   "source": [
    "## Simulation of 1-D permeability values\n",
    "\n",
    "This assignment is an extension of the previous two assignments where we now close the loop between kriging, experimental variogram analysis, and property simulation. We will here use the estimated correlation of the last assignment now to _simulate_ the values using Sequential Gaussian Simulation (SGS).\n",
    "\n",
    "In the algorithm of SGS, we combine estimated mean and standard deviations with random sampling to draw a representative value for a property at an unknown location. \n",
    "\n",
    "Recall that the typical procedure is to:\n",
    "\n",
    "1. Define the property space (1-D, or 2-D grid)\n",
    "2. Randomly iterate through space\n",
    "3. At each location, determine mean and standard deviation using kriging with local neighbourhood values\n",
    "4. Draw random sample at location\n",
    "5. Iterate until all positions filled.\n",
    "\n",
    "In addition to sampling at all unknown locations, we will furthermore reuse the experimental variogram analysis from the last assignment to determine if the sampled values follow the theoretical variogram/ covariance function that was used in the kriging interpolation step to perform the sampling."
   ]
  },
  {
   "cell_type": "markdown",
   "metadata": {},
   "source": [
    "## Task 1 (5 pts): 1-D kriging with multiple values\n",
    "\n",
    "This task is an extension of the interpolation performed in assignment 3. However, the previous implementation has to be extended to now work with an arbitrary amount of data points, but still in 1-D.\n",
    "\n",
    "The first part is, as before, to define the covariance function. We now use an exponential model of the form:\n",
    "\n",
    "$$ \\gamma(h) = c_0 e^{( -3.0 \\frac{h}{r} )} $$\n",
    "\n",
    "where $h$ is the lag, $c_0$ the sample variance, and $r$ the covariance range.\n",
    "\n",
    "**Your task (8 pts)**: Complete the functions below to calculate (a) the covariance function, and (b) to perform for multiple points with the simple kriging method. The kriging function should return two values (as a tuple): the estimated value and the estimated kriging variance at the unknown position:\n"
   ]
  },
  {
   "cell_type": "code",
   "execution_count": 4,
   "metadata": {
    "collapsed": false,
    "slideshow": {
     "slide_type": "slide"
    }
   },
   "outputs": [],
   "source": [
    "# Your code here:\n",
    "\n",
    "# (a) covariance function with arguments:\n",
    "# h : lag\n",
    "# r : covariance range\n",
    "# sample_var : variance of sample population\n",
    "def cf(x_pos, r, sample_var, info = False):\n",
    "    \"\"\"h = Array: lag\"\n",
    "    r =  Range of the spherical semivariogram\n",
    "    sample_var = Nugget, variance\n",
    "    \"\"\"\n",
    "    \n",
    "    # Createing the lag vector\n",
    "    i, j = np.indices((len(x_pos),len(x_pos)))\n",
    "    h = np.zeros((len(x_pos),len(x_pos)))\n",
    "    for l in range(len(x_pos)):\n",
    "        h[i==l] = abs(x_pos[l]-x_pos)\n",
    "        \n",
    "    # Initializing\n",
    "    C_h = np.ones_like(h)\n",
    "    \n",
    "    # Appliying the function\n",
    "    #C_h = (h<r)*( C_o*(1-1.5*(h/r)+0.5*(h/r)**3))\n",
    "    C_h = sample_var*np.e**(-3.0*h/r)\n",
    "    if info == True:\n",
    "        print \"Our lag matrix is\", h\n",
    "        print \"Our covariance matrix is\",C_h\n",
    "    return C_h\n",
    "\n",
    "    \n",
    "    \n",
    "# (b) kriging interpolation with arguments:\n",
    "# pos_unknown: position (float) of unknown value\n",
    "# x_pos : numpy array with positions of known values (used for interpolation)\n",
    "# vals : numpy array corresponding property values at known positions\n",
    "# r : variogram range\n",
    "# sample_mean : mean value of sample population\n",
    "# sample_var : variance of sample population\n",
    "#\n",
    "# Note: this function should return two values: estimated value and variance\n",
    "def kriging(pos_unknown, x_pos, vals, r, sample_mean = False, sample_var = 0.0005, info = False):\n",
    "    \n",
    "    if sample_mean == False:\n",
    "        sample_mean = np.mean(vals)\n",
    "    \n",
    "    #Lag:\n",
    "    Y = (vals-sample_mean)\n",
    "    \n",
    "    # Covariance matrix:\n",
    "    C_h = cf(x_pos, r, sample_var, info = info)\n",
    "    \n",
    "    # \"Interpolation point\":\n",
    "    b = np.zeros(len(x_pos))\n",
    "    dist = abs(pos_unknown-x_pos)\n",
    "    b = sample_var*np.e**(-3.0*dist/r)\n",
    "\n",
    "    # Solving the system\n",
    "    lam = np.linalg.solve(C_h, b)\n",
    "\n",
    "    # Lag of the interpolated point\n",
    "    Y_a = sum(lam*Y)\n",
    "\n",
    "   \n",
    "    sol = Y_a + sample_mean\n",
    "\n",
    "\n",
    "    \n",
    "    # Calculate the variance\n",
    "    var = sample_var - np.sum(lam*b)\n",
    "    \n",
    "    \n",
    "    if info == True:\n",
    "        print \"lag at the point\", Y_a\n",
    "\n",
    "        print \"weight\", lam\n",
    "        print \"mean solution\", sol\n",
    "        print \"lamba*b\", lam*b\n",
    "        print \"variance solution\", var\n",
    "    \n",
    "    return sol, var\n",
    "\n",
    "    "
   ]
  },
  {
   "cell_type": "markdown",
   "metadata": {
    "slideshow": {
     "slide_type": "slide"
    }
   },
   "source": [
    "Test your implementation with the following call:"
   ]
  },
  {
   "cell_type": "code",
   "execution_count": 5,
   "metadata": {
    "collapsed": false,
    "slideshow": {
     "slide_type": "slide"
    }
   },
   "outputs": [
    {
     "name": "stdout",
     "output_type": "stream",
     "text": [
      "Our lag matrix is [[  0.  11.  20.   2.]\n",
      " [ 11.   0.   9.   9.]\n",
      " [ 20.   9.   0.  18.]\n",
      " [  2.   9.  18.   0.]]\n",
      "Our covariance matrix is [[ 3.          2.27871637  1.81959198  2.85368827]\n",
      " [ 2.27871637  3.          2.39554866  2.39554866]\n",
      " [ 1.81959198  2.39554866  3.          1.91288445]\n",
      " [ 2.85368827  2.39554866  1.91288445  3.        ]]\n",
      "lag at the point 0.144407007917\n",
      "weight [ -1.48029737e-16   8.87320934e-01  -5.33134442e-16   1.10190596e-01]\n",
      "mean solution 0.244407007917\n",
      "lamba*b [ -3.45857024e-16   2.59623871e+00  -1.24561656e-15   2.70649289e-01]\n",
      "variance solution 0.133112004898\n",
      "(0.24440700791719719, 0.13311200489811048)\n"
     ]
    }
   ],
   "source": [
    "est_val, est_var = kriging(500, np.array([490, 501, 510, 492]), \n",
    "                           np.array([0.2, 0.3, 0.3, -0.2]), 120, 0.1, 3.0, info = True)\n",
    "print(est_val, est_var)"
   ]
  },
  {
   "cell_type": "markdown",
   "metadata": {},
   "source": [
    "As a self-test: the previous function should yield the result (some trailing digits may deviate):\n",
    "\n",
    "     0.244407007917 0.133112004898 "
   ]
  },
  {
   "cell_type": "markdown",
   "metadata": {},
   "source": [
    "## Task 2 (15 pts): Sequential Gaussian Simulation\n",
    "\n",
    "We can now use this function to perform the simulation. However, before we can get started, we need to define a model range on which to perform the sampling, as well as the random path to visit each position in the range. \n",
    "\n",
    "One possibility to get the random path is to first define the values (e.g. with the `np.arange` function) and then to use the `np.random.shuffle` method to shuffle the values around in-place. Motivated from the real data that we analysed in assignment 4, we are using a range from 200 to 1600 m.\n",
    "\n",
    "Also, following up from assignment 4, we will use the following settings for the experimental variogram:\n",
    "\n",
    "* $r$ = 120 (variogram range)\n",
    "* $c_0$ = 0.3 (population variance)\n",
    "\n",
    "**Your task (1 pt)**: In order to make the following results reproducible, the first step will be to define the random seed. Use your student id in the `np.random.seed(student_id)` function to initiate the seed:"
   ]
  },
  {
   "cell_type": "code",
   "execution_count": 6,
   "metadata": {
    "collapsed": false
   },
   "outputs": [],
   "source": [
    "# Your code: set the seed\n",
    "np.random.seed(382421)"
   ]
  },
  {
   "cell_type": "markdown",
   "metadata": {},
   "source": [
    "**Your task (1 pts)**: Define sampling positions in the range from 200 to 1600 m, with one sample per meter, and randomise the positions:"
   ]
  },
  {
   "cell_type": "code",
   "execution_count": 7,
   "metadata": {
    "collapsed": false
   },
   "outputs": [
    {
     "name": "stdout",
     "output_type": "stream",
     "text": [
      "[1000 1041  829 ..., 1062 1085  798] 1400\n"
     ]
    }
   ],
   "source": [
    "# Your code here:\n",
    "values = np.arange(200,1600)\n",
    "np.random.shuffle(values)\n",
    "print values, len(values)"
   ]
  },
  {
   "cell_type": "markdown",
   "metadata": {},
   "source": [
    "We now have a lot of data points to simulate values at. Recall from the lecture, that we usually only use a defined number of nearest points to perform the kriging estimation (otherwise, we would end up using more than 1000 points in the final steps!). One possibility to implement this functionality in your code is to (at each sample location):\n",
    "\n",
    "1. Calculate the distance between the unknown point and all previously sampled points and store the result in an array;\n",
    "2. Use this distance array to sort the arrays of the previously sampled positions and their values (see: the `np.argsort` method!) to sort these arrays according to the distance to the unknown point;\n",
    "3. Use only the previous $n$ elements of these arrays in the interpolation step (see `x_pos` and `vals` arguments in the kriging function above).\n",
    "\n",
    "After performing the kriging, you obtain estimated value and variance. In order to simulate a value you can draw from the normal distribution with these parameters, for example with the function:\n",
    "\n",
    "    np.random.normal(value, stdev) \n",
    "    \n",
    "*Note: don't forget to transform variance into standard deviation, first!*\n",
    "\n",
    "**Your task (12 pts)**: Write now the code to perform the sampling at each of these positions, using the $n = 20$ nearest values. Use $r = 120$ and $c_0 = 0.3$ as variogram parameters, as well as 0.0 for the sample mean (residuals only). Finally, store the sampled value in a numpy array (e.g. `sampled_vals`):"
   ]
  },
  {
   "cell_type": "code",
   "execution_count": 9,
   "metadata": {
    "collapsed": true
   },
   "outputs": [],
   "source": [
    "np.argmax?"
   ]
  },
  {
   "cell_type": "code",
   "execution_count": 10,
   "metadata": {
    "collapsed": false
   },
   "outputs": [
    {
     "ename": "NameError",
     "evalue": "name 'data' is not defined",
     "output_type": "error",
     "traceback": [
      "\u001b[1;31m---------------------------------------------------------------------------\u001b[0m",
      "\u001b[1;31mNameError\u001b[0m                                 Traceback (most recent call last)",
      "\u001b[1;32m<ipython-input-10-ba6368d755bb>\u001b[0m in \u001b[0;36m<module>\u001b[1;34m()\u001b[0m\n\u001b[0;32m      1\u001b[0m \u001b[0mn\u001b[0m \u001b[1;33m=\u001b[0m \u001b[1;36m5\u001b[0m\u001b[1;33m\u001b[0m\u001b[0m\n\u001b[1;32m----> 2\u001b[1;33m \u001b[0midx\u001b[0m \u001b[1;33m=\u001b[0m \u001b[0mnp\u001b[0m\u001b[1;33m.\u001b[0m\u001b[0mwhere\u001b[0m\u001b[1;33m(\u001b[0m\u001b[1;33m(\u001b[0m\u001b[0mnp\u001b[0m\u001b[1;33m.\u001b[0m\u001b[0mabs\u001b[0m\u001b[1;33m(\u001b[0m\u001b[0mdata\u001b[0m\u001b[1;33m[\u001b[0m\u001b[1;33m:\u001b[0m\u001b[1;33m,\u001b[0m\u001b[1;36m0\u001b[0m\u001b[1;33m]\u001b[0m\u001b[1;33m-\u001b[0m\u001b[0mvalues\u001b[0m\u001b[1;33m[\u001b[0m\u001b[1;36m9\u001b[0m\u001b[1;33m]\u001b[0m\u001b[1;33m)\u001b[0m\u001b[1;33m<\u001b[0m \u001b[1;33m(\u001b[0m\u001b[0mnp\u001b[0m\u001b[1;33m.\u001b[0m\u001b[0msort\u001b[0m\u001b[1;33m(\u001b[0m\u001b[0mnp\u001b[0m\u001b[1;33m.\u001b[0m\u001b[0mabs\u001b[0m\u001b[1;33m(\u001b[0m\u001b[0mdata\u001b[0m\u001b[1;33m[\u001b[0m\u001b[1;33m:\u001b[0m\u001b[1;33m,\u001b[0m\u001b[1;36m0\u001b[0m\u001b[1;33m]\u001b[0m\u001b[1;33m-\u001b[0m\u001b[0mvalues\u001b[0m\u001b[1;33m[\u001b[0m\u001b[1;36m9\u001b[0m\u001b[1;33m]\u001b[0m\u001b[1;33m)\u001b[0m\u001b[1;33m)\u001b[0m\u001b[1;33m[\u001b[0m\u001b[0mn\u001b[0m\u001b[1;33m]\u001b[0m\u001b[1;33m)\u001b[0m\u001b[1;33m)\u001b[0m\u001b[1;33m)\u001b[0m\u001b[1;33m\u001b[0m\u001b[0m\n\u001b[0m\u001b[0;32m      3\u001b[0m \u001b[1;32mprint\u001b[0m \u001b[0midx\u001b[0m\u001b[1;33m,\u001b[0m \u001b[0mvalues\u001b[0m\u001b[1;33m\u001b[0m\u001b[0m\n\u001b[0;32m      4\u001b[0m \u001b[1;32mprint\u001b[0m \u001b[0mnp\u001b[0m\u001b[1;33m.\u001b[0m\u001b[0msort\u001b[0m\u001b[1;33m(\u001b[0m\u001b[0mnp\u001b[0m\u001b[1;33m.\u001b[0m\u001b[0mabs\u001b[0m\u001b[1;33m(\u001b[0m\u001b[0mdata\u001b[0m\u001b[1;33m[\u001b[0m\u001b[1;33m:\u001b[0m\u001b[1;33m,\u001b[0m\u001b[1;36m0\u001b[0m\u001b[1;33m]\u001b[0m\u001b[1;33m-\u001b[0m\u001b[0mvalues\u001b[0m\u001b[1;33m[\u001b[0m\u001b[1;36m9\u001b[0m\u001b[1;33m]\u001b[0m\u001b[1;33m)\u001b[0m\u001b[1;33m)\u001b[0m\u001b[1;33m[\u001b[0m\u001b[0mn\u001b[0m\u001b[1;33m]\u001b[0m\u001b[1;33m,\u001b[0m \u001b[0mvalues\u001b[0m\u001b[1;33m[\u001b[0m\u001b[1;36m9\u001b[0m\u001b[1;33m]\u001b[0m\u001b[1;33m\u001b[0m\u001b[0m\n\u001b[0;32m      5\u001b[0m \u001b[1;32mprint\u001b[0m \u001b[0mdata\u001b[0m\u001b[1;33m[\u001b[0m\u001b[0midx\u001b[0m\u001b[1;33m,\u001b[0m\u001b[1;36m0\u001b[0m\u001b[1;33m]\u001b[0m\u001b[1;33m\u001b[0m\u001b[0m\n",
      "\u001b[1;31mNameError\u001b[0m: name 'data' is not defined"
     ]
    }
   ],
   "source": [
    "n = 5\n",
    "idx = np.where((np.abs(data[:,0]-values[9])< (np.sort(np.abs(data[:,0]-values[9]))[n])))\n",
    "print idx, values\n",
    "print np.sort(np.abs(data[:,0]-values[9]))[n], values[9]\n",
    "print data[idx,0]\n",
    "\n",
    "lala = np.vstack([data, [2,3,0]])\n",
    "lala"
   ]
  },
  {
   "cell_type": "code",
   "execution_count": 11,
   "metadata": {
    "collapsed": false
   },
   "outputs": [
    {
     "data": {
      "text/plain": [
       "array([[  4.90000000e+02,   2.00000000e-01],\n",
       "       [  5.01000000e+02,   3.00000000e-01],\n",
       "       [  5.10000000e+02,   3.00000000e-01],\n",
       "       [  4.92000000e+02,  -2.00000000e-01]])"
      ]
     },
     "execution_count": 11,
     "metadata": {},
     "output_type": "execute_result"
    }
   ],
   "source": [
    "np.array([[490, 501, 510, 492],[0.2, 0.3, 0.3, -0.2]]).transpose()"
   ]
  },
  {
   "cell_type": "code",
   "execution_count": 8,
   "metadata": {
    "collapsed": false
   },
   "outputs": [],
   "source": [
    "# Your code here:\n",
    "def SGS(x_min, x_max, x_pos, values, r, sample_mean = False, sample_var = 0.0005, info = False, n = 20):\n",
    "    # Creating the \"1D-grid\"\n",
    "    Positions_unknown = np.arange(x_min,x_max)\n",
    "    np.random.shuffle(Positions_unknown)\n",
    "    # Setting the data matrix\n",
    "    data = np.array([x_pos,values]).transpose()\n",
    "   # print data\n",
    "    sampled_vals = []\n",
    "    i = 1\n",
    "    for pos_unknown in Positions_unknown:\n",
    "        # Finding the index of the closest values:\n",
    "        if n> len(data):\n",
    "            n = len(data)\n",
    "            \n",
    "        idx = np.where((np.abs(data[:,0]-pos_unknown)<=(np.sort(np.abs(data[:,0]-pos_unknown))[n-1])))\n",
    "        \n",
    "        nearest_pos = np.squeeze(data[idx,0])  # depth\n",
    "        nearest_val = np.squeeze(data[idx,1])  # permeability\n",
    "    #    print nearest_pos, data[idx,1]\n",
    "        i += 1\n",
    "        \n",
    "        krig_mean, krig_var = kriging(pos_unknown, nearest_pos, nearest_val, r = r\n",
    "                                ,sample_mean = sample_mean, sample_var = sample_var, info = info)\n",
    "        #print i , krig_mean, krig_var\n",
    "        try:\n",
    "            simulated_val = np.random.normal(krig_mean, np.sqrt(krig_var))\n",
    "            data = np.vstack([data,[pos_unknown, simulated_val]])\n",
    "        except ValueError:\n",
    "            continue\n",
    "        # Appending the simulated value and at the correct depth\n",
    "        \n",
    "        sampled_vals = np.append(sampled_vals, simulated_val)\n",
    "        \n",
    "    return data\n",
    "\n"
   ]
  },
  {
   "cell_type": "code",
   "execution_count": 10,
   "metadata": {
    "collapsed": false,
    "scrolled": false
   },
   "outputs": [],
   "source": [
    "sim_data = SGS(200, 1600, np.array([490, 501]), np.array([0.2, 0.3]), 120, sample_var = 0.3, n = 20, info = False)\n"
   ]
  },
  {
   "cell_type": "markdown",
   "metadata": {},
   "source": [
    "Finally, we want to compare the sampled/ simulated values to the actually measured values that we previously used in assignment 4. A quick way to compare the results is, of course, to plot the values with depth. \n",
    "\n",
    "*Note: If you want to show the data as a line plot (you don't have to!), you will have to sort the arrays before plotting. Recall the `np.argsort` method from above for a possible way to do this!*\n",
    "\n",
    "**Your task (2 pts)**: Create a plot of simulated values:"
   ]
  },
  {
   "cell_type": "code",
   "execution_count": 12,
   "metadata": {
    "collapsed": false
   },
   "outputs": [
    {
     "data": {
      "text/plain": [
       "[<matplotlib.lines.Line2D at 0xa02fb00>]"
      ]
     },
     "execution_count": 12,
     "metadata": {},
     "output_type": "execute_result"
    },
    {
     "data": {
      "image/png": "[encoded data removed]",
      "text/plain": [
       "<matplotlib.figure.Figure at 0xa02fac8>"
      ]
     },
     "metadata": {},
     "output_type": "display_data"
    }
   ],
   "source": [
    "# Your code here:\n",
    "# Sorting values:\n",
    "sim = sim_data\n",
    "sim = sim[sim[:,0].argsort()]\n",
    "\n",
    "# data from assignment 4\n",
    "data = np.loadtxt(\"ASCOut_W20.asc\", skiprows = 3)\n",
    "bolean_array = data[:,1]>0\n",
    "data = data[bolean_array]\n",
    "data[:,1] = np.log10(data[:,1])\n",
    "coefficients = np.polyfit(data[:,0],data[:,1],1)\n",
    "polynomial = np.poly1d(coefficients)\n",
    "ys = polynomial(data[:,0])\n",
    "data[:,1] = data[:,1]-ys\n",
    "\n",
    "#Plotting\n",
    "plt.plot(data[:,1], -data[:,0], linewidth=1)\n",
    "plt.plot(sim[:,1], -sim[:,0],  \"--\",linewidth=1)\n",
    "\n"
   ]
  },
  {
   "cell_type": "markdown",
   "metadata": {},
   "source": [
    "What do you think, is the simulated dataset comparable to the measured (de-trended) data?"
   ]
  },
  {
   "cell_type": "markdown",
   "metadata": {},
   "source": [
    "## Task 3 (5 pts): Calculate experimental variogram\n",
    "\n",
    "The direct link between the simulated and the measured data is given in the form of the (exponential) covariance function and the two parameters that we interpreted from the experimental variogram in assignment 4. Considering this link, it is interesting to now determine the experimental variogram from the simulated data set. Do you expect to get back the form of the theoretical variogram?\n",
    "\n",
    "**Your task (3 pts)**: Determine experimental variogram from simulated data and create a plot with lags and tolerance levels given below:"
   ]
  },
  {
   "cell_type": "code",
   "execution_count": 29,
   "metadata": {
    "collapsed": false
   },
   "outputs": [],
   "source": [
    "lags = np.arange(10.,500.,10.)\n",
    "tol = 10.\n",
    "\n",
    "# Your code here:\n",
    "\n",
    "# Functions:\n",
    "def extract(data, d,lag,tol):\n",
    "    return data[((data[:,0] < (d-lag+tol)) * (data[:,0] > (d-lag-tol))) + ((data[:,0] < (d+lag+tol)) * (data[:,0] > d+lag-tol))] \n",
    "\n",
    "def semivariance_h(data,d,lag,tol):\n",
    "    idx = (np.abs(data[:,0]-d)).argmin()\n",
    "    u_alpha = (extract(data,d,lag,tol)[:,1])  \n",
    "    return   (u_alpha- data[idx,1])**2\n",
    "\n",
    "\n",
    "# Performing semivariance of the simulation data\n",
    "points = []\n",
    "semivariance_lag_sim = []\n",
    "for j in lags:\n",
    "    for i in sim_data[:,0]:        \n",
    "        points = np.append(points,semivariance_h(sim_data,i,j,tol))\n",
    "\n",
    "    semivariance_lag_sim = np.append(semivariance_lag, np.mean(points)) \n",
    "    \n",
    "     # Reset points\n",
    "    points = []\n",
    "    \n",
    "    \n",
    "# Performing semivariance of the data\n",
    "points = []\n",
    "semivariance_lag = []\n",
    "for j in lags:\n",
    "    for i in data[:,0]:        \n",
    "        points = np.append(points,semivariance_h(data,i,j,tol))\n",
    "\n",
    "    semivariance_lag = np.append(semivariance_lag, np.mean(points)) \n",
    "    \n",
    "     # Reset points\n",
    "    points = []    \n"
   ]
  },
  {
   "cell_type": "markdown",
   "metadata": {},
   "source": [
    "Do the retrieved experimental variogram values look like you expected from the theoretical variogram? \n",
    "\n",
    "**Your task (2 pts)**: Plot the theoretical variogram over the values and discuss the results (how would it be possible to get a better esimate?):"
   ]
  },
  {
   "cell_type": "code",
   "execution_count": 41,
   "metadata": {
    "collapsed": false
   },
   "outputs": [
    {
     "name": "stdout",
     "output_type": "stream",
     "text": [
      "[ 0.11424085  0.20161098  0.26295878  0.30502035  0.33349908  0.35304121\n",
      "  0.37896264  0.41103395  0.43756155  0.4496258   0.45174198  0.45002339\n",
      "  0.44401293  0.45000762  0.47260156  0.49211612  0.49817462  0.50011302\n",
      "  0.48733919  0.46846885  0.46432972  0.46472607  0.45543271  0.43690667\n",
      "  0.41374332  0.38418736  0.35874349  0.34431588  0.3458389   0.36594178\n",
      "  0.40435121  0.44646292  0.47615131  0.49554683  0.51589274  0.53520627\n",
      "  0.54870129  0.55433465  0.55157816  0.5473168   0.54831647  0.55119661\n",
      "  0.55267821  0.55418996  0.56096083  0.57111628  0.5663166   0.55127334\n",
      "  0.54141285  0.54141285] 49 [ 0.10707721  0.23252377  0.33013417  0.37019033  0.38282693  0.40527416\n",
      "  0.44249302  0.48571103  0.52146125  0.54425441  0.55952925  0.57409433\n",
      "  0.59308544  0.6062589   0.60499632  0.59778241  0.60151469  0.61099146\n",
      "  0.59860308  0.54969855  0.48381123  0.4429232   0.44896204  0.49644263\n",
      "  0.53876327  0.54025611  0.52371831  0.5291057   0.55937726  0.58723022\n",
      "  0.5981539   0.60661547  0.61006737  0.60168657  0.58977033  0.58756014\n",
      "  0.6036907   0.62815168  0.65500239  0.67262857  0.67147766  0.64842755\n",
      "  0.61237437  0.59178713  0.59929112  0.61782448  0.63698725  0.66900575\n",
      "  0.72327471]\n"
     ]
    },
    {
     "data": {
      "text/plain": [
       "[<matplotlib.lines.Line2D at 0xd0fe128>]"
      ]
     },
     "execution_count": 41,
     "metadata": {},
     "output_type": "execute_result"
    },
    {
     "data": {
      "image/png": "[encoded data removed]",
      "text/plain": [
       "<matplotlib.figure.Figure at 0xd76a2e8>"
      ]
     },
     "metadata": {},
     "output_type": "display_data"
    }
   ],
   "source": [
    "print semivariance_lag_sim, len(lags), semivariance_lag\n",
    "# Your code here:\n",
    "plt.plot(lags, semivariance_lag, \"o\")\n",
    "plt.plot(lags, semivariance_lag_sim[:-1], \"o\")"
   ]
  },
  {
   "cell_type": "markdown",
   "metadata": {},
   "source": [
    "In this assignment, you went through the entire loop of using an experimental variogram to simulate values at unknown locations on the basis of kriging interpolation with the Sequential Gaussian Simulation (SGS) algorithm!\n",
    "\n",
    "I hope that you also realised possible advantages (in simulating the variability), but also limitations (in obtaining the correct correlations) of the approach - and that you get a feeling for potential pitfalls when you use these methods in the future, for example implemented in some software packages."
   ]
  },
  {
   "cell_type": "markdown",
   "metadata": {},
   "source": [
    "## Bonus task (5 pts): SGS on 2-D fields\n",
    "\n",
    "The extension to 2-D fields is conceptually not difficult, it only requires some care when calculating the distance between points, and the definition of the random path. However, as it is an additional good practice in the use of the previously learned methods, I am giving up to 5 bonus points for simulation and visualisation of a random field with SGS on a 2-D grid!\n",
    "\n",
    "**Your (bonus) task (5 pts)**: Extend your methods above to perform SGS on a 2-D grid, simulate and visualise a grid with parameters of your choice:"
   ]
  },
  {
   "cell_type": "code",
   "execution_count": null,
   "metadata": {
    "collapsed": false
   },
   "outputs": [],
   "source": [
    "# Your code:\n",
    "\n"
   ]
  }
 ],
 "metadata": {
  "kernelspec": {
   "display_name": "Python 2",
   "language": "python",
   "name": "python2"
  },
  "language_info": {
   "codemirror_mode": {
    "name": "ipython",
    "version": 2
   },
   "file_extension": ".py",
   "mimetype": "text/x-python",
   "name": "python",
   "nbconvert_exporter": "python",
   "pygments_lexer": "ipython2",
   "version": "2.7.9"
  }
 },
 "nbformat": 4,
 "nbformat_minor": 0
}
