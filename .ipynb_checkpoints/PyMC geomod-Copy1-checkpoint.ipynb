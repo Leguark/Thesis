{
 "cells": [
  {
   "cell_type": "markdown",
   "metadata": {},
   "source": [
    "## The F**** the day of reckoning\n",
    "\n",
    "**Importing**"
   ]
  },
  {
   "cell_type": "code",
   "execution_count": 1,
   "metadata": {
    "collapsed": true
   },
   "outputs": [],
   "source": [
    "%matplotlib inline\n",
    "from IPython.core.display import Image"
   ]
  },
  {
   "cell_type": "code",
   "execution_count": 2,
   "metadata": {
    "collapsed": false
   },
   "outputs": [
    {
     "name": "stdout",
     "output_type": "stream",
     "text": [
      "Couldn't import dot_parser, loading of dot files will not be possible.\n"
     ]
    }
   ],
   "source": [
    "import numpy as np\n",
    "import matplotlib.pyplot as plt\n",
    "import sys, os\n",
    "#import geobayes_simple as gs\n",
    "\n",
    "import pymc as pm # PyMC 2\n",
    "from pymc.Matplot import plot\n",
    "from pymc import graph as gr\n",
    "import numpy as np\n",
    "#import daft\n",
    "from IPython.core.pylabtools import figsize\n",
    "figsize(12.5, 10)"
   ]
  },
  {
   "cell_type": "code",
   "execution_count": 5,
   "metadata": {
    "collapsed": false
   },
   "outputs": [
    {
     "data": {
      "text/plain": [
       "<module 'geomodeller_xml_obj' from 'C:\\Users\\Miguel\\workspace\\pygeomod\\pygeomod\\geomodeller_xml_obj.pyc'>"
      ]
     },
     "execution_count": 5,
     "metadata": {},
     "output_type": "execute_result"
    }
   ],
   "source": [
    "#sys.path.append(\"C:\\Users\\Miguel\\workspace\\Thesis\\geobyes\")\n",
    "# as we have our model and pygeomod in different paths, let's change the pygeomod path to the default path.\n",
    "sys.path.append(\"C:\\Users\\Miguel\\workspace\\pygeomod\\pygeomod\")\n",
    "#sys.path.append(r'/home/jni/git/tmp/pygeomod_tmp')\n",
    "import geogrid\n",
    "import geomodeller_xml_obj as gxml\n",
    "reload(gxml)"
   ]
  },
  {
   "cell_type": "markdown",
   "metadata": {},
   "source": [
    "## Simplest case: three horizontal layers, with depth unknow\n",
    "#### Loading pre-made Geomodeller model "
   ]
  },
  {
   "cell_type": "code",
   "execution_count": 6,
   "metadata": {
    "collapsed": false
   },
   "outputs": [
    {
     "name": "stdout",
     "output_type": "stream",
     "text": [
      "..\\Geomodeller\\Basic_case\\3_horizontal_layers\\horizontal_layers.xml\n"
     ]
    }
   ],
   "source": [
    "hor_lay = r'..\\Geomodeller\\Basic_case\\3_horizontal_layers\\horizontal_layers.xml'\n",
    "print hor_lay"
   ]
  },
  {
   "cell_type": "code",
   "execution_count": 5,
   "metadata": {
    "collapsed": false
   },
   "outputs": [],
   "source": [
    "reload(geogrid)\n",
    "G1 = geogrid.GeoGrid()\n",
    "# Using G1, we can read the dimensions of our Murci geomodel\n",
    "G1.get_dimensions_from_geomodeller_xml_project(hor_lay)\n",
    "# Using G1, we can read the dimensions of our Murci geomodel\n",
    "G1.get_dimensions_from_geomodeller_xml_project(hor_lay)\n",
    "#G1.set_dimensions(dim=(0,23000,0,16000,-8000,1000))\n",
    "nx = 400\n",
    "ny = 2\n",
    "nz = 400\n",
    "G1.define_regular_grid(nx,ny,nz)\n",
    "\n",
    "G1.update_from_geomodeller_project(hor_lay)"
   ]
  },
  {
   "cell_type": "code",
   "execution_count": 6,
   "metadata": {
    "collapsed": false
   },
   "outputs": [
    {
     "name": "stderr",
     "output_type": "stream",
     "text": [
      "C:\\Users\\Miguel\\Anaconda\\lib\\site-packages\\matplotlib\\axes\\_base.py:1057: UnicodeWarning: Unicode equal comparison failed to convert both arguments to Unicode - interpreting them as being unequal\n",
      "  if aspect == 'normal':\n",
      "C:\\Users\\Miguel\\Anaconda\\lib\\site-packages\\matplotlib\\axes\\_base.py:1062: UnicodeWarning: Unicode equal comparison failed to convert both arguments to Unicode - interpreting them as being unequal\n",
      "  elif aspect in ('equal', 'auto'):\n"
     ]
    },
    {
     "data": {
      "image/png": "[encoded data removed]",
      "text/plain": [
       "<matplotlib.figure.Figure at 0x19e3e9e8>"
      ]
     },
     "metadata": {},
     "output_type": "display_data"
    }
   ],
   "source": [
    "G1.plot_section('y',cell_pos=1,colorbar=False,cmap='RdBu',figsize=(6,6),interpolation= 'nearest' ,ve = 1)"
   ]
  },
  {
   "cell_type": "markdown",
   "metadata": {},
   "source": [
    "####Setting Bayes Model"
   ]
  },
  {
   "cell_type": "code",
   "execution_count": 7,
   "metadata": {
    "collapsed": false
   },
   "outputs": [
    {
     "data": {
      "image/png": "[encoded data removed]",
      "text/plain": [
       "<IPython.core.display.Image object>"
      ]
     },
     "execution_count": 7,
     "metadata": {},
     "output_type": "execute_result"
    }
   ],
   "source": [
    "Image(\"Nice Notebooks\\THL_no_thickness.png\")"
   ]
  },
  {
   "cell_type": "code",
   "execution_count": 8,
   "metadata": {
    "collapsed": true
   },
   "outputs": [],
   "source": [
    "alpha = pm.Normal(\"alpha\", 350, 0.05)#, value= 250)\n",
    "beta = pm.Normal(\"beta\", 150, 0.001)#, value=0)\n",
    "gamma = pm.Normal(\"gamma\", 50, 0.001)#, value = 0)\n",
    "\n",
    "#MODEL!!\n",
    "model = pm.Model([alpha, beta, gamma])"
   ]
  },
  {
   "cell_type": "code",
   "execution_count": 9,
   "metadata": {
    "collapsed": false
   },
   "outputs": [
    {
     "name": "stdout",
     "output_type": "stream",
     "text": [
      "\r",
      " [-----------------100%-----------------] 1500 of 1500 complete in 0.1 sec"
     ]
    }
   ],
   "source": [
    "M = pm.MCMC(model)\n",
    "M.sample(iter=1500, burn = 800)"
   ]
  },
  {
   "cell_type": "code",
   "execution_count": 10,
   "metadata": {
    "collapsed": true
   },
   "outputs": [],
   "source": [
    "alpha_samples, alpha_samples_all = M.trace('alpha')[-1:], M.trace(\"alpha\")[:]\n",
    "beta_samples, beta_samples_all = M.trace('beta')[-1:], M.trace(\"beta\")[:]\n",
    "gamma_samples, gamma_samples_all = M.trace('gamma')[-1:], M.trace('gamma')[:]"
   ]
  },
  {
   "cell_type": "markdown",
   "metadata": {},
   "source": [
    "## Generating new model in Geomodeller"
   ]
  },
  {
   "cell_type": "code",
   "execution_count": 36,
   "metadata": {
    "collapsed": false
   },
   "outputs": [
    {
     "name": "stdout",
     "output_type": "stream",
     "text": [
      "Write tree to file backup\\orihor_lay.xml\n"
     ]
    }
   ],
   "source": [
    "reload(gxml)\n",
    "gmod_obj = gxml.GeomodellerClass()\n",
    "gmod_obj.load_geomodeller_file(hor_lay)\n",
    "gmod_obj.write_xml(\"backup\\orihor_lay.xml\")"
   ]
  },
  {
   "cell_type": "code",
   "execution_count": 37,
   "metadata": {
    "collapsed": false
   },
   "outputs": [
    {
     "name": "stdout",
     "output_type": "stream",
     "text": [
      "section names ['Section1', 'SurfaceTopography'] \n",
      "\n",
      "Chosen section by position <Element '{http://www.geomodeller.com/geo}Section' at 0x19e82860> \n",
      "\n",
      "Chosen section by entry <Element '{http://www.geomodeller.com/geo}Section' at 0x19e82860> \n",
      "\n",
      "formation names ['Form1', 'Form2', 'Form3'] \n",
      "\n",
      "Contact points on the chosen section [<Element '{http://www.geomodeller.com/geo}Interface' at 0x19e82e10>, <Element '{http://www.geomodeller.com/geo}Interface' at 0x19e82f60>, <Element '{http://www.geomodeller.com/geo}Interface' at 0x19ea00f0>, <Element '{http://www.geomodeller.com/geo}Interface' at 0x19ea0240>, <Element '{http://www.geomodeller.com/geo}Interface' at 0x19ea0390>, <Element '{http://www.geomodeller.com/geo}Interface' at 0x19ea04e0>] \n",
      "<type 'list'>\n",
      "Contact points on the chosen section [<Element '{http://www.geomodeller.com/geo}Interface' at 0x19e82e10>, <Element '{http://www.geomodeller.com/geo}Interface' at 0x19e82f60>, <Element '{http://www.geomodeller.com/geo}Interface' at 0x19ea00f0>, <Element '{http://www.geomodeller.com/geo}Interface' at 0x19ea0240>, <Element '{http://www.geomodeller.com/geo}Interface' at 0x19ea0390>, <Element '{http://www.geomodeller.com/geo}Interface' at 0x19ea04e0>] \n",
      "<type 'list'>\n",
      "Points coordinates ['Form3 50,-350 150,-350 ', 'Form2 50,-500 150,-500 ', 'Form1 50,-650 150,-650 ', 'Form3 850,-350 950,-350 ', 'Form2 850,-500 950,-500 ', 'Form1 850,-650 950,-650 ']\n"
     ]
    }
   ],
   "source": [
    "# Section names:\n",
    "section_names = gmod_obj.get_section_names()\n",
    "print \"section names\",section_names, \"\\n\" \n",
    "\n",
    "# Choose the section we want to use with Positon\n",
    "sections = gmod_obj.get_sections()[0]\n",
    "print \"Chosen section by position\", sections, \"\\n\"\n",
    "\n",
    "# Create a dictionary so we can acces the section through the name\n",
    "section_dict = gmod_obj.create_sections_dict()\n",
    "print \"Chosen section by entry\", section_dict['Section1'], \"\\n\"\n",
    "\n",
    "# Formation names\n",
    "formation_names = gmod_obj.get_formation_names()\n",
    "print \"formation names\", formation_names, \"\\n\"\n",
    "\n",
    "# Get the points of all formation for a given section: Position\n",
    "contact_points = gmod_obj.get_formation_point_data(sections) #to extract points you have to choose one of the sections\n",
    "print \"Contact points on the chosen section\", contact_points, \"\\n\", type(contact_points)\n",
    "\n",
    "## Get the points of all formation for a given section: Dictionary\n",
    "contact_points = gmod_obj.get_formation_point_data(section_dict['Section1']) #to extract points you have to choose one of the sections\n",
    "print \"Contact points on the chosen section\", contact_points, \"\\n\", type(contact_points)\n",
    "\n",
    "# Showing contact points\n",
    "points = gmod_obj.get_point_coordinates(contact_points)\n",
    "print \"Points coordinates\", points"
   ]
  },
  {
   "cell_type": "markdown",
   "metadata": {
    "collapsed": true
   },
   "source": [
    "We want to change all points of the three formations. To do so we use the Section 1 that is what we are plotting"
   ]
  },
  {
   "cell_type": "code",
   "execution_count": 42,
   "metadata": {
    "collapsed": false
   },
   "outputs": [
    {
     "name": "stdout",
     "output_type": "stream",
     "text": [
      "['50.000000,-630.000000', '150.000000,-630.000000']\n",
      "['850.000000,-630.000000', '950.000000,-630.000000']\n"
     ]
    }
   ],
   "source": [
    "for point in contact_points:\n",
    "    gmod_obj.change_formation_point_pos(point, if_name = \"Form1\", y_coord = [-630,-630])"
   ]
  },
  {
   "cell_type": "code",
   "execution_count": 43,
   "metadata": {
    "collapsed": false
   },
   "outputs": [
    {
     "name": "stdout",
     "output_type": "stream",
     "text": [
      "Points coordinates ['Form3 50.000000,-630.000000 150.000000,-630.000000 ', 'Form2 50.000000,-630.000000 150.000000,-630.000000 ', 'Form1 50.000000,-630.000000 150.000000,-640.000000 ', 'Form3 850.000000,-630.000000 950.000000,-630.000000 ', 'Form2 850.000000,-630.000000 950.000000,-630.000000 ', 'Form1 850.000000,-630.000000 950.000000,-640.000000 ']\n"
     ]
    }
   ],
   "source": [
    "# Showing contact points\n",
    "points_changed = gmod_obj.get_point_coordinates(contact_points)\n",
    "print \"Points coordinates\", points_changed\n"
   ]
  },
  {
   "cell_type": "code",
   "execution_count": 40,
   "metadata": {
    "collapsed": false
   },
   "outputs": [
    {
     "name": "stdout",
     "output_type": "stream",
     "text": [
      "[<Element '{http://www.geomodeller.com/geo}Interface' at 0x19e82e10>, <Element '{http://www.geomodeller.com/geo}Interface' at 0x19e82f60>, <Element '{http://www.geomodeller.com/geo}Interface' at 0x19ea00f0>, <Element '{http://www.geomodeller.com/geo}Interface' at 0x19ea0240>, <Element '{http://www.geomodeller.com/geo}Interface' at 0x19ea0390>, <Element '{http://www.geomodeller.com/geo}Interface' at 0x19ea04e0>]\n"
     ]
    }
   ],
   "source": []
  },
  {
   "cell_type": "code",
   "execution_count": 34,
   "metadata": {
    "collapsed": false
   },
   "outputs": [
    {
     "name": "stdout",
     "output_type": "stream",
     "text": [
      "Write tree to file test.xml\n"
     ]
    }
   ],
   "source": [
    "gmod_obj.write_xml(\"test.xml\")"
   ]
  },
  {
   "cell_type": "code",
   "execution_count": 28,
   "metadata": {
    "collapsed": false
   },
   "outputs": [
    {
     "data": {
      "text/plain": [
       "()"
      ]
     },
     "execution_count": 28,
     "metadata": {},
     "output_type": "execute_result"
    }
   ],
   "source": [
    "\n",
    "x_coord = 4\n",
    "np.shape(x_coord)\n"
   ]
  },
  {
   "cell_type": "code",
   "execution_count": 14,
   "metadata": {
    "collapsed": false
   },
   "outputs": [
    {
     "data": {
      "text/plain": [
       "array([4, 4])"
      ]
     },
     "execution_count": 14,
     "metadata": {},
     "output_type": "execute_result"
    }
   ],
   "source": [
    "array(x_coord)"
   ]
  },
  {
   "cell_type": "code",
   "execution_count": null,
   "metadata": {
    "collapsed": true
   },
   "outputs": [],
   "source": []
  }
 ],
 "metadata": {
  "kernelspec": {
   "display_name": "Python 2",
   "language": "python",
   "name": "python2"
  },
  "language_info": {
   "codemirror_mode": {
    "name": "ipython",
    "version": 2
   },
   "file_extension": ".py",
   "mimetype": "text/x-python",
   "name": "python",
   "nbconvert_exporter": "python",
   "pygments_lexer": "ipython2",
   "version": "2.7.9"
  }
 },
 "nbformat": 4,
 "nbformat_minor": 0
}
